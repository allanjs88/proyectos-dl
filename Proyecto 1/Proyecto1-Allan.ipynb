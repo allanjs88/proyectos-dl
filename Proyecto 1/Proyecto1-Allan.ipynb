{
 "cells": [
  {
   "cell_type": "markdown",
   "metadata": {
    "id": "tTTV24oWYeQn"
   },
   "source": [
    "# Proyecto 1 - Deep Learning\n",
    "## Estudiante: Allan Murillo González\n"
   ]
  },
  {
   "cell_type": "markdown",
   "metadata": {
    "id": "COpzvME2RYbq"
   },
   "source": [
    "## Instalación de dependencias"
   ]
  },
  {
   "cell_type": "code",
   "execution_count": null,
   "metadata": {
    "colab": {
     "base_uri": "https://localhost:8080/"
    },
    "executionInfo": {
     "elapsed": 108644,
     "status": "ok",
     "timestamp": 1744156893668,
     "user": {
      "displayName": "Allan Joseph Murillo",
      "userId": "09057564043892499034"
     },
     "user_tz": 360
    },
    "id": "95yOdXJgYbE7",
    "outputId": "35d5b1fa-88dc-4d14-8e7e-93710547a372"
   },
   "outputs": [],
   "source": [
    "!pip install numpy matplotlib torch torchvision"
   ]
  },
  {
   "cell_type": "code",
   "execution_count": null,
   "metadata": {
    "executionInfo": {
     "elapsed": 18672,
     "status": "ok",
     "timestamp": 1744156912343,
     "user": {
      "displayName": "Allan Joseph Murillo",
      "userId": "09057564043892499034"
     },
     "user_tz": 360
    },
    "id": "ODBW6-9BYc_R"
   },
   "outputs": [],
   "source": [
    "import torch\n",
    "import torchvision\n",
    "#import torchvision.transforms as transforms\n",
    "from torchvision.datasets import CIFAR10\n",
    "import torch.nn as nn\n",
    "import torch.nn.functional as F\n"
   ]
  },
  {
   "cell_type": "markdown",
   "metadata": {
    "id": "cxHrbsAnWGXs"
   },
   "source": []
  },
  {
   "cell_type": "markdown",
   "metadata": {
    "id": "S1KCNW4wYQqo"
   },
   "source": [
    "## Parte 1: Preparación de Datos con Desbalanceo Inducido"
   ]
  },
  {
   "cell_type": "code",
   "execution_count": null,
   "metadata": {
    "colab": {
     "base_uri": "https://localhost:8080/"
    },
    "executionInfo": {
     "elapsed": 17866,
     "status": "ok",
     "timestamp": 1744156930208,
     "user": {
      "displayName": "Allan Joseph Murillo",
      "userId": "09057564043892499034"
     },
     "user_tz": 360
    },
    "id": "pJ2cDS0mZip7",
    "outputId": "4d50ab81-27c4-4a5c-e235-07e46c6db860"
   },
   "outputs": [],
   "source": [
    "# Descargamos el conjunto de datos\n",
    "dataset = CIFAR10(root='data/', download=True)\n",
    "len(dataset)"
   ]
  },
  {
   "cell_type": "code",
   "execution_count": null,
   "metadata": {
    "colab": {
     "base_uri": "https://localhost:8080/"
    },
    "executionInfo": {
     "elapsed": 353,
     "status": "ok",
     "timestamp": 1744156930577,
     "user": {
      "displayName": "Allan Joseph Murillo",
      "userId": "09057564043892499034"
     },
     "user_tz": 360
    },
    "id": "wtZY11ChZvAB",
    "outputId": "33022ad6-4fa2-4454-f0f0-65de822f9180"
   },
   "outputs": [],
   "source": [
    "dataset_test = CIFAR10(root='data/', train=False)\n",
    "len(dataset_test)"
   ]
  },
  {
   "cell_type": "markdown",
   "metadata": {
    "id": "aSZZzd0QaDz_"
   },
   "source": [
    "Abrir imagen:"
   ]
  },
  {
   "cell_type": "code",
   "execution_count": null,
   "metadata": {
    "executionInfo": {
     "elapsed": 18,
     "status": "ok",
     "timestamp": 1744156930594,
     "user": {
      "displayName": "Allan Joseph Murillo",
      "userId": "09057564043892499034"
     },
     "user_tz": 360
    },
    "id": "UTLSjwTMaFcO"
   },
   "outputs": [],
   "source": [
    "import matplotlib.pyplot as plt\n",
    "import numpy as np\n",
    "%matplotlib inline"
   ]
  },
  {
   "cell_type": "code",
   "execution_count": null,
   "metadata": {
    "colab": {
     "base_uri": "https://localhost:8080/",
     "height": 151
    },
    "executionInfo": {
     "elapsed": 211,
     "status": "ok",
     "timestamp": 1744156930809,
     "user": {
      "displayName": "Allan Joseph Murillo",
      "userId": "09057564043892499034"
     },
     "user_tz": 360
    },
    "id": "41wxu34kZ_xS",
    "outputId": "da6722d8-4fd7-41a5-c77f-370df5fe882e"
   },
   "outputs": [],
   "source": [
    "image, label = dataset[0]\n",
    "plt.figure(figsize=(.90, .90))\n",
    "plt.imshow(image)\n",
    "print('Label:', label)"
   ]
  },
  {
   "cell_type": "markdown",
   "metadata": {
    "id": "5BH0ssw5uZiP"
   },
   "source": [
    "🐸"
   ]
  },
  {
   "cell_type": "markdown",
   "metadata": {
    "id": "gdIpPJUagclL"
   },
   "source": [
    "### 1. Cargar CIFAR-10 y dividir en entrenamiento (70%), validación (15%), prueba (15%)."
   ]
  },
  {
   "cell_type": "code",
   "execution_count": null,
   "metadata": {
    "colab": {
     "base_uri": "https://localhost:8080/"
    },
    "executionInfo": {
     "elapsed": 19,
     "status": "ok",
     "timestamp": 1744156930834,
     "user": {
      "displayName": "Allan Joseph Murillo",
      "userId": "09057564043892499034"
     },
     "user_tz": 360
    },
    "id": "LGd7nrKVgdZg",
    "outputId": "a4ab027c-31e1-44ef-a1bf-944c7a926adc"
   },
   "outputs": [],
   "source": [
    "from torch.utils.data import random_split, Subset\n",
    "\n",
    "# Divide in 70%,15% and 1%5\n",
    "\n",
    "# train_ds, val_ds, test_ds = random_split(dataset, [0.7, 0.15,0.15])\n",
    "# len(train_ds), len(val_ds), len(test_ds)\n",
    "\n",
    "# Pero si tenemos test solo necesitamos divir uno en validación en 80% y 20\n",
    "train_ds, val_ds = random_split(dataset, [0.80, 0.20])\n",
    "\n",
    "\n",
    "test_ds = dataset_test\n",
    "\n",
    "len(train_ds), len(val_ds),len(test_ds)\n"
   ]
  },
  {
   "cell_type": "markdown",
   "metadata": {
    "id": "CfMfmCAggwL2"
   },
   "source": [
    "### 2. Desbalanceo Artificial: En el conjunto de entrenamiento, reducir las muestras de 3\n",
    "Clases seleccionadas al 10% de su tamaño original (ej: aviones, barcos, ranas)."
   ]
  },
  {
   "cell_type": "markdown",
   "metadata": {
    "id": "Vx8btkH_WrID"
   },
   "source": [
    "CIFAR-10 Clases:\n",
    "\n",
    "| #                    | Clase |\n",
    "|-----------------------------|--------------------|\n",
    "| 0                    | Avión ✈️            |\n",
    "| 1                    | Automóvil 🚗            |\n",
    "| 2                    | Pájaro 🐦            |\n",
    "| 3                    | Gato 🐱           |\n",
    "| 4                    | Venado 🦌            |\n",
    "| 5                    | Perro 🐶            |\n",
    "| 6                    | Rana 🐸             |\n",
    "| 7                    | Caballo 🐎             |\n",
    "| 8                    | Barco ⛵            |\n",
    "| 9                    | Camión 🚛            |\n",
    "\n",
    "\n",
    "\n",
    "\n",
    "\n"
   ]
  },
  {
   "cell_type": "code",
   "execution_count": null,
   "metadata": {
    "executionInfo": {
     "elapsed": 30,
     "status": "ok",
     "timestamp": 1744156930864,
     "user": {
      "displayName": "Allan Joseph Murillo",
      "userId": "09057564043892499034"
     },
     "user_tz": 360
    },
    "id": "D7YhWjt0gzu9"
   },
   "outputs": [],
   "source": [
    "# Clases a desbalancear: [0, 8, 6] (avión, barco, rana)\n",
    "classes_to_reduce = [0, 8, 6]\n"
   ]
  },
  {
   "cell_type": "code",
   "execution_count": null,
   "metadata": {
    "colab": {
     "base_uri": "https://localhost:8080/"
    },
    "executionInfo": {
     "elapsed": 1247,
     "status": "ok",
     "timestamp": 1744156932108,
     "user": {
      "displayName": "Allan Joseph Murillo",
      "userId": "09057564043892499034"
     },
     "user_tz": 360
    },
    "id": "S1JDk_BRiB2c",
    "outputId": "d8a95fd5-2a73-4e23-d3b1-bc9625dbbd5f"
   },
   "outputs": [],
   "source": [
    "# Obtener las clases de cada muestra en train_ds\n",
    "# train_labels = np.array([train_ds.dataset.targets[i] for i in train_ds.indices])\n",
    "# print(train_labels)\n",
    "\n",
    "from collections import Counter\n",
    "\n",
    "# Crear lista con las clases\n",
    "label_list = [labels for _, labels in train_ds]\n",
    "\n",
    "# Contarlas\n",
    "label_counts = Counter(label_list)\n",
    "\n",
    "# Se orderna por ordern\n",
    "sorted_counts = dict(sorted(label_counts.items()))\n",
    "\n",
    "print(sorted_counts)\n"
   ]
  },
  {
   "cell_type": "code",
   "execution_count": null,
   "metadata": {
    "colab": {
     "base_uri": "https://localhost:8080/"
    },
    "executionInfo": {
     "elapsed": 31,
     "status": "ok",
     "timestamp": 1744156932139,
     "user": {
      "displayName": "Allan Joseph Murillo",
      "userId": "09057564043892499034"
     },
     "user_tz": 360
    },
    "id": "4u1_W0yYTnCD",
    "outputId": "9739ebb3-7f62-4d38-8f2c-5170abd73c33"
   },
   "outputs": [],
   "source": [
    "# Obtener todos los índices y etiquetas de train_ds\n",
    "train_indices = np.array(train_ds.indices)\n",
    "train_labels = np.array([train_ds.dataset.targets[i] for i in train_indices])\n",
    "\n",
    "# Contar muestras originales por clase\n",
    "original_counts = Counter(train_labels)\n",
    "\n",
    "# Seleccione los índices que desea conservar\n",
    "new_indices = []\n",
    "for cls in np.unique(train_labels):\n",
    "    cls_indices = train_indices[train_labels == cls] # Obtener índices de esta clase\n",
    "\n",
    "    if cls in classes_to_reduce:\n",
    "        reduced_size = max(1, len(cls_indices) // 10)  # Mantener 10%\n",
    "        cls_indices = np.random.choice(cls_indices, reduced_size, replace=False) # Seleccionar aleatoriamente\n",
    "\n",
    "    new_indices.extend(cls_indices)\n",
    "\n",
    "# Actualiza conjunto de datos reducido\n",
    "train_ds_reduced = Subset(train_ds.dataset, new_indices)\n",
    "\n",
    "# Imprimir nueva distribución de clases\n",
    "new_labels = [train_ds.dataset.targets[i] for i in new_indices]\n",
    "print(Counter(new_labels))"
   ]
  },
  {
   "cell_type": "markdown",
   "metadata": {
    "id": "55eyNgvlQ3Cc"
   },
   "source": [
    "### 3. Aumento de Datos Básico: Solo para entrenamiento, aplicar normalización (utilice la media (0.5, 0.5, 0.5) y la std (0.5, 0.5, 0.5) )."
   ]
  },
  {
   "cell_type": "code",
   "execution_count": null,
   "metadata": {
    "executionInfo": {
     "elapsed": 13,
     "status": "ok",
     "timestamp": 1744156932153,
     "user": {
      "displayName": "Allan Joseph Murillo",
      "userId": "09057564043892499034"
     },
     "user_tz": 360
    },
    "id": "LnodmyjxQ-zB"
   },
   "outputs": [],
   "source": [
    "import torchvision.transforms as transforms\n",
    "\n",
    "# Definir una transformación para convertir imágenes PIL en tensores y normalizarlas\n",
    "# Pytorch no sabe cómo trabajar con imágenes, debemos convertirlas a tensores.\n",
    "transform = transforms.Compose([\n",
    "    transforms.ToTensor(),  # Convert PIL image to PyTorch tensor\n",
    "    transforms.Normalize(mean=[0.5, 0.5, 0.5], std=[0.5, 0.5, 0.5])  # Normaliza con media y std\n",
    "])\n",
    "\n",
    "\n",
    "# Apply the transform to your datasets\n",
    "train_ds_reduced.dataset.transform = transform\n",
    "val_ds.dataset.transform = transform\n",
    "#test_ds.dataset.transform = transform"
   ]
  },
  {
   "cell_type": "markdown",
   "metadata": {
    "id": "YIksTI_7Q7ap"
   },
   "source": [
    "### 4. Muestra un gráfico de barras con la distribución de clases antes/después del\n",
    "desbalanceo."
   ]
  },
  {
   "cell_type": "code",
   "execution_count": null,
   "metadata": {
    "colab": {
     "base_uri": "https://localhost:8080/",
     "height": 607
    },
    "executionInfo": {
     "elapsed": 414,
     "status": "ok",
     "timestamp": 1744156932568,
     "user": {
      "displayName": "Allan Joseph Murillo",
      "userId": "09057564043892499034"
     },
     "user_tz": 360
    },
    "id": "Bdvqo95raJ2y",
    "outputId": "247a75c3-122e-43a5-fc7f-67fa8b02800e"
   },
   "outputs": [],
   "source": [
    "import matplotlib.pyplot as plt\n",
    "from collections import Counter\n",
    "\n",
    "# Get original labels from train_ds\n",
    "original_counts = Counter([train_ds.dataset.targets[i] for i in train_ds.indices])  # Antes del desbalanceo\n",
    "\n",
    "# Get new labels from the reduced train_ds (train_ds_reduced)\n",
    "new_counts = Counter([train_ds_reduced.dataset.targets[i] for i in train_ds_reduced.indices])  # Después del desbalanceo\n",
    "\n",
    "# Graficar\n",
    "plt.figure(figsize=(12, 6))\n",
    "\n",
    "# Subplot 1: Original distribution\n",
    "plt.subplot(1, 2, 1)\n",
    "plt.bar(original_counts.keys(), original_counts.values(), color='blue')\n",
    "plt.title(\"Distribución Antes del Desbalanceo\")\n",
    "plt.xlabel(\"Clases\")\n",
    "plt.ylabel(\"Número de muestras\")\n",
    "\n",
    "# Subplot 2: Reduced distribution\n",
    "plt.subplot(1, 2, 2)\n",
    "plt.bar(new_counts.keys(), new_counts.values(), color='red')\n",
    "plt.title(\"Distribución Después del Desbalanceo\")\n",
    "plt.xlabel(\"Clases\")\n",
    "plt.ylabel(\"Número de muestras\")\n",
    "\n",
    "# Mostrar gráfico\n",
    "plt.tight_layout()\n",
    "plt.show()\n"
   ]
  },
  {
   "cell_type": "markdown",
   "metadata": {
    "id": "ZSllgKmeRPak"
   },
   "source": [
    "##Parte 2: Modelo Base Sobrealimentado (25%)"
   ]
  },
  {
   "cell_type": "markdown",
   "metadata": {
    "id": "wW6e-cDKRf62"
   },
   "source": [
    "### 1. Arquitectura:\n",
    "*  Red densamente conectada con mínimo 5 capas ocultas (ej: 3072 → 2048 →\n",
    "1024 → 512 → 256 → 10).\n",
    "*   Activaciones ReLU, dropout NO permitido en esta etapa.\n",
    "\n",
    "\n"
   ]
  },
  {
   "cell_type": "markdown",
   "metadata": {
    "id": "T-Q4wzGPPHuM"
   },
   "source": [
    "Primero definamos nuestro dispositivo como el primer dispositivo cuda visible si tenemos CUDA disponible:"
   ]
  },
  {
   "cell_type": "code",
   "execution_count": null,
   "metadata": {
    "executionInfo": {
     "elapsed": 24,
     "status": "ok",
     "timestamp": 1744156932593,
     "user": {
      "displayName": "Allan Joseph Murillo",
      "userId": "09057564043892499034"
     },
     "user_tz": 360
    },
    "id": "ATguI7FzO_jH"
   },
   "outputs": [],
   "source": [
    "device = torch.device('cuda:0' if torch.cuda.is_available() else 'cpu')"
   ]
  },
  {
   "cell_type": "code",
   "execution_count": null,
   "metadata": {
    "colab": {
     "base_uri": "https://localhost:8080/"
    },
    "executionInfo": {
     "elapsed": 12,
     "status": "ok",
     "timestamp": 1744156932602,
     "user": {
      "displayName": "Allan Joseph Murillo",
      "userId": "09057564043892499034"
     },
     "user_tz": 360
    },
    "id": "B-dzKQHWPHJv",
    "outputId": "b40a65e0-a9c4-4c4a-9fee-af5f27578ceb"
   },
   "outputs": [],
   "source": [
    "print(device)"
   ]
  },
  {
   "cell_type": "code",
   "execution_count": null,
   "metadata": {
    "executionInfo": {
     "elapsed": 10,
     "status": "ok",
     "timestamp": 1744156932603,
     "user": {
      "displayName": "Allan Joseph Murillo",
      "userId": "09057564043892499034"
     },
     "user_tz": 360
    },
    "id": "1wg5GjuurxJL"
   },
   "outputs": [],
   "source": [
    "from torch.utils.data import DataLoader\n",
    "# Hiperparametros\n",
    "input_size = 3072\n",
    "num_classes = 10\n",
    "epoch = 50\n",
    "learning_rate = 0.01\n",
    "batch_size = 128\n",
    "\n",
    "train_loader = DataLoader(train_ds_reduced, batch_size, shuffle=True)\n",
    "val_loader = DataLoader(val_ds, batch_size)\n",
    "#test_loader = DataLoader(test_ds, batch_size)"
   ]
  },
  {
   "cell_type": "code",
   "execution_count": null,
   "metadata": {
    "executionInfo": {
     "elapsed": 2,
     "status": "ok",
     "timestamp": 1744156932603,
     "user": {
      "displayName": "Allan Joseph Murillo",
      "userId": "09057564043892499034"
     },
     "user_tz": 360
    },
    "id": "GUh2yvoZtxQ7"
   },
   "outputs": [],
   "source": [
    "# Revisar si se puede hacer dentro de la clase de nn\n",
    "def accuracy(outputs, labels):\n",
    "    _, preds = torch.max(outputs, dim=1)\n",
    "    return torch.tensor(torch.sum(preds == labels).item() / len(preds))"
   ]
  },
  {
   "cell_type": "code",
   "execution_count": null,
   "metadata": {
    "executionInfo": {
     "elapsed": 1,
     "status": "ok",
     "timestamp": 1744156932606,
     "user": {
      "displayName": "Allan Joseph Murillo",
      "userId": "09057564043892499034"
     },
     "user_tz": 360
    },
    "id": "Bww2jFQAuIHc"
   },
   "outputs": [],
   "source": [
    "def evaluate(model, loader, mode='train'):\n",
    "    outputs = [model.validation_step(batch, mode=mode) for batch in loader]\n",
    "    return model.validation_epoch_end(outputs, mode=mode)"
   ]
  },
  {
   "cell_type": "code",
   "execution_count": null,
   "metadata": {
    "colab": {
     "base_uri": "https://localhost:8080/"
    },
    "executionInfo": {
     "elapsed": 285,
     "status": "ok",
     "timestamp": 1744156932894,
     "user": {
      "displayName": "Allan Joseph Murillo",
      "userId": "09057564043892499034"
     },
     "user_tz": 360
    },
    "id": "EwWps1LrRfBT",
    "outputId": "8f53f7f2-6597-4bb5-9b6b-ac9a51891fe5"
   },
   "outputs": [],
   "source": [
    "class MnistModel(nn.Module):\n",
    "    def __init__(self):\n",
    "        super().__init__()\n",
    "\n",
    "        self.linear1 = nn.Linear(input_size, 2048)\n",
    "        self.linear2 = nn.Linear(2048, 1024)\n",
    "        self.linear3 = nn.Linear(1024, 512)\n",
    "        self.linear4 = nn.Linear(512, 256)\n",
    "        self.linear5 = nn.Linear(256, num_classes)\n",
    "\n",
    "    def forward(self, xb):\n",
    "\n",
    "        # Es el conjunto de datos CIFAR-10,\n",
    "        # cada imagen con un tamano 32x32x3 (3072 pixels),\n",
    "        # donde los 3 rpresentan los tres canales RGB.\n",
    "        xb = xb.reshape(-1, input_size)\n",
    "        # Ruido gaussiano\n",
    "        #xb += torch.rand(1,784) * 0.8\n",
    "        out = F.relu(self.linear1(xb))\n",
    "        out = F.relu(self.linear2(out))\n",
    "        out = F.relu(self.linear3(out))\n",
    "        out = F.relu(self.linear4(out))\n",
    "        out = self.linear5(out)\n",
    "        return out\n",
    "\n",
    "    def training_step(self, batch):\n",
    "        images, labels = batch\n",
    "        images = images.to(next(self.parameters()).device)\n",
    "        labels = labels.to(next(self.parameters()).device)\n",
    "\n",
    "        out = self(images)\n",
    "        loss = F.cross_entropy(out, labels)\n",
    "        acc = accuracy(out, labels)\n",
    "        return loss\n",
    "\n",
    "    # def train_validation_step(self, batch):\n",
    "    #     images, labels = batch\n",
    "    #     out = self(images)                    # Generar predictiones\n",
    "    #     loss = F.cross_entropy(out, labels)   # Calcular loss\n",
    "    #     acc = accuracy(out, labels)           # Calcular accuracy\n",
    "    #     return {'train_loss': loss, 'train_acc': acc}\n",
    "\n",
    "    def validation_step(self, batch, mode=\"train\"):\n",
    "        images, labels = batch\n",
    "        images = images.to(next(self.parameters()).device)\n",
    "        labels = labels.to(next(self.parameters()).device)\n",
    "\n",
    "        out = self(images)\n",
    "        loss = F.cross_entropy(out, labels)\n",
    "        acc = accuracy(out, labels)\n",
    "        return {f'{mode}_loss': loss, f'{mode}_acc': acc}\n",
    "\n",
    "    def validation_epoch_end(self, outputs, mode=\"train\"):\n",
    "        batch_losses = [x[f'{mode}_loss'] for x in outputs]\n",
    "        epoch_loss = torch.stack(batch_losses).mean()   # Promedia los loss\n",
    "        batch_accs = [x[f'{mode}_acc'] for x in outputs]\n",
    "        epoch_acc = torch.stack(batch_accs).mean()      # Promedia accuracy\n",
    "        return {f'{mode}_loss': epoch_loss.item(), f'{mode}_acc': epoch_acc.item()}\n",
    "\n",
    "\n",
    "    def epoch_end(self, epoch, result, mode=\"train\"):\n",
    "        print(f\"Epoch [{epoch}], {mode}_loss: {result[f'{mode}_loss']:.4f}, {mode}_acc: {result[f'{mode}_acc']:.4f}\")\n",
    "\n",
    "model = MnistModel()\n",
    "model.to(device)"
   ]
  },
  {
   "cell_type": "markdown",
   "metadata": {
    "id": "y1UDbj7_uoUH"
   },
   "source": [
    "### 2. Entrenamiento:\n",
    "* Optimizador: SGD con momentum (sin regularización L2).\n",
    "* Función de pérdida: Cross-Entropy sin pesos de clases.\n",
    "* Debe escoger las métricas para la evaluación.\n",
    "* Entrenar por 100 épocas."
   ]
  },
  {
   "cell_type": "code",
   "execution_count": null,
   "metadata": {
    "executionInfo": {
     "elapsed": 48,
     "status": "ok",
     "timestamp": 1744156932941,
     "user": {
      "displayName": "Allan Joseph Murillo",
      "userId": "09057564043892499034"
     },
     "user_tz": 360
    },
    "id": "UihfYmFVupBv"
   },
   "outputs": [],
   "source": [
    "def fit(epochs, lr, model, train_loader, val_loader, opt_func=torch.optim.SGD):\n",
    "    optimizer = opt_func(model.parameters(), lr, momentum=0.9)\n",
    "    history_test = []\n",
    "    history_train = []\n",
    "\n",
    "    for epoch in range(epochs):\n",
    "\n",
    "        # Entrenamiento\n",
    "        for batch in train_loader:\n",
    "             # Mover los datos al device\n",
    "            images, labels = batch\n",
    "            images = images.to(device)  # Mueve las imagenes\n",
    "            labels = labels.to(device)  # Mueve las etiquetas\n",
    "\n",
    "            loss = model.training_step(batch)\n",
    "            loss.backward()\n",
    "            optimizer.step()\n",
    "            optimizer.zero_grad()\n",
    "        # Validación con muestras de trainig\n",
    "        result_train = evaluate(model, train_loader)\n",
    "        model.epoch_end(epoch, result_train)\n",
    "        history_train.append(result_train)\n",
    "        # Validación\n",
    "        result = evaluate(model, val_loader, mode='val')\n",
    "        model.epoch_end(epoch, result, mode='val')\n",
    "        history_test.append(result)\n",
    "\n",
    "    return history_train, history_test"
   ]
  },
  {
   "cell_type": "code",
   "execution_count": null,
   "metadata": {
    "colab": {
     "base_uri": "https://localhost:8080/"
    },
    "executionInfo": {
     "elapsed": 878775,
     "status": "ok",
     "timestamp": 1744157811715,
     "user": {
      "displayName": "Allan Joseph Murillo",
      "userId": "09057564043892499034"
     },
     "user_tz": 360
    },
    "id": "Yh-aEkf6yYaN",
    "outputId": "493b3043-9037-4146-d103-94d8a1f11527"
   },
   "outputs": [],
   "source": [
    "history_train, history_val = fit(epoch, learning_rate, model, train_loader, val_loader)"
   ]
  },
  {
   "cell_type": "markdown",
   "metadata": {
    "id": "9-5LWNyVykOp"
   },
   "source": [
    "### 3. Análisis:\n",
    "* Gráficas de pérdida y métricas (entrenamiento vs validación).\n",
    "* Matriz de confusión para las 3 clases minoritarias.\n",
    "* Explique: ¿Por qué el modelo probablemente tendrá bajo recall en las clases\n",
    "minoritarias?"
   ]
  },
  {
   "cell_type": "code",
   "execution_count": null,
   "metadata": {
    "executionInfo": {
     "elapsed": 13,
     "status": "ok",
     "timestamp": 1744157811731,
     "user": {
      "displayName": "Allan Joseph Murillo",
      "userId": "09057564043892499034"
     },
     "user_tz": 360
    },
    "id": "EU-krPqZf7jb"
   },
   "outputs": [],
   "source": [
    "def plot_accuracy(train_history, val_history):\n",
    "    \"\"\"\n",
    "    Plots the accuracy of the training and validation datasets over epochs.\n",
    "\n",
    "    Parameters:\n",
    "    - train_history (list of dict): List containing training results for each epoch.\n",
    "    - val_history (list of dict): List containing validation results for each epoch.\n",
    "    \"\"\"\n",
    "    accuracies_train = [result['train_acc'] for result in train_history]\n",
    "    accuracies_val = [result['val_acc'] for result in val_history]\n",
    "\n",
    "    plt.plot(accuracies_train, '-x', label='Train Accuracy')\n",
    "    plt.plot(accuracies_val, '-o', label='Validation Accuracy')\n",
    "    plt.xlabel('Epoch')\n",
    "    plt.ylabel('Accuracy')\n",
    "    plt.title('Accuracy (Train vs Validation) vs. Number of Epochs')\n",
    "    plt.legend()\n",
    "    plt.show()\n"
   ]
  },
  {
   "cell_type": "code",
   "execution_count": null,
   "metadata": {
    "colab": {
     "base_uri": "https://localhost:8080/",
     "height": 472
    },
    "executionInfo": {
     "elapsed": 417,
     "status": "ok",
     "timestamp": 1744157812153,
     "user": {
      "displayName": "Allan Joseph Murillo",
      "userId": "09057564043892499034"
     },
     "user_tz": 360
    },
    "id": "Ov5lvByOgR0-",
    "outputId": "7126a1d7-ee6b-4b99-805d-87cccb1503a6"
   },
   "outputs": [],
   "source": [
    "plot_accuracy(history_train,history_val)"
   ]
  },
  {
   "cell_type": "code",
   "execution_count": null,
   "metadata": {
    "colab": {
     "base_uri": "https://localhost:8080/",
     "height": 472
    },
    "executionInfo": {
     "elapsed": 4112,
     "status": "ok",
     "timestamp": 1744157816266,
     "user": {
      "displayName": "Allan Joseph Murillo",
      "userId": "09057564043892499034"
     },
     "user_tz": 360
    },
    "id": "-bWXn1HN-yYC",
    "outputId": "6f56c66e-f4f9-43b0-da91-c7388b8c8d88"
   },
   "outputs": [],
   "source": [
    "from sklearn.metrics import confusion_matrix, ConfusionMatrixDisplay\n",
    "import numpy as np\n",
    "import matplotlib.pyplot as plt\n",
    "\n",
    "# Obtener predicciones reales y predichas del conjunto de validación\n",
    "y_true = []\n",
    "y_pred = []\n",
    "\n",
    "model.eval()  # modo evaluación\n",
    "with torch.no_grad():\n",
    "    for images, labels in val_loader:\n",
    "        images = images.to(device)\n",
    "        labels = labels.to(device)\n",
    "\n",
    "        outputs = model(images)\n",
    "        _, preds = torch.max(outputs, dim=1)\n",
    "        y_true.extend(labels.cpu().numpy())\n",
    "        y_pred.extend(preds.cpu().numpy())\n",
    "\n",
    "y_true = np.array(y_true)\n",
    "y_pred = np.array(y_pred)\n",
    "\n",
    "# Filtramos solo las clases minoritarias [0, 8, 6]\n",
    "minority_classes = [0, 8, 6]\n",
    "\n",
    "mask = np.isin(y_true, minority_classes)\n",
    "y_true_min = y_true[mask]\n",
    "y_pred_min = y_pred[mask]\n",
    "\n",
    "# Calcular matriz de confusión\n",
    "cm = confusion_matrix(y_true_min, y_pred_min, labels=minority_classes)\n",
    "\n",
    "# Mostrar matriz de confusión\n",
    "disp = ConfusionMatrixDisplay(confusion_matrix=cm, display_labels=[f'{c}' for c in minority_classes])\n",
    "disp.plot(cmap='Blues')\n",
    "plt.title('Matriz de Confusión - Clases Minoritarias [0, 8, 6]')\n",
    "plt.show()\n"
   ]
  },
  {
   "cell_type": "markdown",
   "metadata": {
    "id": "nbJvjZyQS6u8"
   },
   "source": [
    "**Explicación:** Como el dataset esta desvalanceado el modelo aprende muchísimo mejor a reconocer las clases mayoritarias (porque son las que más ve).\n",
    "\n",
    "En cambio, las clases minoritarias (avión, barco y rana) aparecen tan pocas veces durante el entrenamiento, que el modelo no logra capturar bien sus patrones o características."
   ]
  },
  {
   "cell_type": "markdown",
   "metadata": {
    "id": "HF7O8PEa00sf"
   },
   "source": [
    "## Parte 3: Mitigación de Desbalanceo y Regularización (35%)"
   ]
  },
  {
   "cell_type": "markdown",
   "metadata": {
    "id": "fIgu468f1Fwk"
   },
   "source": [
    "### 1. Pérdida Ponderada (10%)\n",
    "  * Calcula pesos de clases inversamente proporcionales a su frecuencia.\n",
    "  * Re-entrena el modelo base usando\n",
    "    * CrossEntropyLoss(weight=class_weights)."
   ]
  },
  {
   "cell_type": "code",
   "execution_count": null,
   "metadata": {
    "executionInfo": {
     "elapsed": 2,
     "status": "ok",
     "timestamp": 1744157816269,
     "user": {
      "displayName": "Allan Joseph Murillo",
      "userId": "09057564043892499034"
     },
     "user_tz": 360
    },
    "id": "cI7lhihlOFez"
   },
   "outputs": [],
   "source": [
    "def calculate_class_weights(samples_per_class):\n",
    "    total_samples = sum(samples_per_class)\n",
    "    num_classes = len(samples_per_class)\n",
    "\n",
    "    # Fórmula: total_samples / (num_classes * samples_per_class)\n",
    "    class_weights = [total_samples / (num_classes * count) for count in samples_per_class]\n",
    "\n",
    "    return torch.tensor(class_weights, dtype=torch.float32)"
   ]
  },
  {
   "cell_type": "code",
   "execution_count": null,
   "metadata": {
    "colab": {
     "base_uri": "https://localhost:8080/"
    },
    "executionInfo": {
     "elapsed": 7,
     "status": "ok",
     "timestamp": 1744157816277,
     "user": {
      "displayName": "Allan Joseph Murillo",
      "userId": "09057564043892499034"
     },
     "user_tz": 360
    },
    "id": "lunpqVtOdoeQ",
    "outputId": "1677ccc8-9461-46cb-bb70-98ad97310e97"
   },
   "outputs": [],
   "source": [
    "count_clasess = Counter(new_labels)\n",
    "samples_per_class = list(count_clasess.values())\n",
    "print(samples_per_class)"
   ]
  },
  {
   "cell_type": "code",
   "execution_count": null,
   "metadata": {
    "executionInfo": {
     "elapsed": 1,
     "status": "ok",
     "timestamp": 1744157816278,
     "user": {
      "displayName": "Allan Joseph Murillo",
      "userId": "09057564043892499034"
     },
     "user_tz": 360
    },
    "id": "I2FcxfUkeHOr"
   },
   "outputs": [],
   "source": [
    "class_weights = calculate_class_weights(samples_per_class)#.to(device)"
   ]
  },
  {
   "cell_type": "code",
   "execution_count": null,
   "metadata": {
    "executionInfo": {
     "elapsed": 11,
     "status": "ok",
     "timestamp": 1744157816290,
     "user": {
      "displayName": "Allan Joseph Murillo",
      "userId": "09057564043892499034"
     },
     "user_tz": 360
    },
    "id": "hD_1OYFAfvFy"
   },
   "outputs": [],
   "source": [
    "class MnistModel(nn.Module):\n",
    "    def __init__(self):\n",
    "        super().__init__()\n",
    "\n",
    "        self.linear1 = nn.Linear(input_size, 2048)\n",
    "        self.linear2 = nn.Linear(2048, 1024)\n",
    "        self.linear3 = nn.Linear(1024, 512)\n",
    "        self.linear4 = nn.Linear(512, 256)\n",
    "        self.linear5 = nn.Linear(256, num_classes)\n",
    "\n",
    "    def forward(self, xb):\n",
    "\n",
    "        # Es el conjunto de datos CIFAR-10,\n",
    "        # cada imagen con un tamano 32x32x3 (3072 pixels),\n",
    "        # donde los 3 rpresentan los tres canales RGB.\n",
    "        xb = xb.reshape(-1, input_size)\n",
    "        # Ruido gaussiano\n",
    "        #xb += torch.rand(1,784) * 0.8\n",
    "        out = F.relu(self.linear1(xb))\n",
    "        out = F.relu(self.linear2(out))\n",
    "        out = F.relu(self.linear3(out))\n",
    "        out = F.relu(self.linear4(out))\n",
    "        out = self.linear5(out)\n",
    "        return out\n",
    "\n",
    "    def training_step(self, batch):\n",
    "        images, labels = batch\n",
    "        images = images.to(next(self.parameters()).device)\n",
    "        labels = labels.to(next(self.parameters()).device)\n",
    "\n",
    "        out = self(images)\n",
    "        loss = F.cross_entropy(out, labels)\n",
    "        acc = accuracy(out, labels)\n",
    "        return loss\n",
    "\n",
    "    # def train_validation_step(self, batch):\n",
    "    #     images, labels = batch\n",
    "    #     out = self(images)                    # Generar predictiones\n",
    "    #     loss = F.cross_entropy(out, labels)   # Calcular loss\n",
    "    #     acc = accuracy(out, labels)           # Calcular accuracy\n",
    "    #     return {'train_loss': loss, 'train_acc': acc}\n",
    "\n",
    "    def validation_step(self, batch, mode=\"train\"):\n",
    "        images, labels = batch\n",
    "        images = images.to(next(self.parameters()).device)\n",
    "        labels = labels.to(next(self.parameters()).device)\n",
    "\n",
    "        out = self(images)\n",
    "        loss = F.cross_entropy(out, labels)\n",
    "        acc = accuracy(out, labels)\n",
    "        return {f'{mode}_loss': loss, f'{mode}_acc': acc}\n",
    "\n",
    "    def validation_epoch_end(self, outputs, mode=\"train\"):\n",
    "        batch_losses = [x[f'{mode}_loss'] for x in outputs]\n",
    "        epoch_loss = torch.stack(batch_losses).mean()   # Promedia los loss\n",
    "        batch_accs = [x[f'{mode}_acc'] for x in outputs]\n",
    "        epoch_acc = torch.stack(batch_accs).mean()      # Promedia accuracy\n",
    "        return {f'{mode}_loss': epoch_loss.item(), f'{mode}_acc': epoch_acc.item()}\n",
    "\n",
    "\n",
    "    def epoch_end(self, epoch, result, mode=\"train\"):\n",
    "        print(f\"Epoch [{epoch}], {mode}_loss: {result[f'{mode}_loss']:.4f}, {mode}_acc: {result[f'{mode}_acc']:.4f}\")\n",
    "\n",
    "model = MnistModel()"
   ]
  },
  {
   "cell_type": "code",
   "execution_count": null,
   "metadata": {
    "colab": {
     "base_uri": "https://localhost:8080/"
    },
    "executionInfo": {
     "elapsed": 2551565,
     "status": "ok",
     "timestamp": 1744160367861,
     "user": {
      "displayName": "Allan Joseph Murillo",
      "userId": "09057564043892499034"
     },
     "user_tz": 360
    },
    "id": "QMOHVQEtfx4k",
    "outputId": "1e2708ff-89a1-463a-b709-01a278b1ce24"
   },
   "outputs": [],
   "source": [
    "history_train, history_val = fit(epoch, learning_rate, model, train_loader, val_loader)"
   ]
  },
  {
   "cell_type": "code",
   "execution_count": null,
   "metadata": {
    "colab": {
     "base_uri": "https://localhost:8080/",
     "height": 472
    },
    "executionInfo": {
     "elapsed": 296,
     "status": "ok",
     "timestamp": 1744160368160,
     "user": {
      "displayName": "Allan Joseph Murillo",
      "userId": "09057564043892499034"
     },
     "user_tz": 360
    },
    "id": "9akl2oZitlCw",
    "outputId": "7c41f7ef-b2e2-4c31-d20b-ebe0a8939367"
   },
   "outputs": [],
   "source": [
    "plot_accuracy(history_train,history_val)"
   ]
  },
  {
   "cell_type": "markdown",
   "metadata": {
    "id": "2MWY3_PiTEMc"
   },
   "source": [
    "### 2. Técnicas Avanzadas (25%)\n",
    "  * Dropout + BatchNorm: Añade capas de Dropout (p=0.5) y BatchNorm\n",
    "después de cada capa oculta.\n",
    "  * Aumento de Datos Agresivo: Rotaciones aleatorias (±30°), volteo horizontal,\n",
    "ajustes de brillo/contraste.\n",
    "  * Investigue sobre Early Stopping: Implemente una estrategia de early stopping\n",
    "en el entrenamiento si la pérdida de validación no mejora en 10 épocas."
   ]
  },
  {
   "cell_type": "code",
   "execution_count": null,
   "metadata": {
    "executionInfo": {
     "elapsed": 95,
     "status": "ok",
     "timestamp": 1744160368257,
     "user": {
      "displayName": "Allan Joseph Murillo",
      "userId": "09057564043892499034"
     },
     "user_tz": 360
    },
    "id": "RiO25FbegdP_"
   },
   "outputs": [],
   "source": [
    "class MnistModel(nn.Module):\n",
    "    def __init__(self, dropout_prob=0.5):\n",
    "      super().__init__()\n",
    "\n",
    "      self.linear1 = nn.Linear(input_size, 2048)\n",
    "      self.batchnorm1 = nn.BatchNorm1d(2048)  # BatchNorm after first layer\n",
    "      self.dropout1 = nn.Dropout(dropout_prob)  # Dropout after first layer\n",
    "\n",
    "      self.linear2 = nn.Linear(2048, 1024)\n",
    "      self.batchnorm2 = nn.BatchNorm1d(1024)  # BatchNorm after second layer\n",
    "      self.dropout2 = nn.Dropout(dropout_prob)  # Dropout after second layer\n",
    "\n",
    "      self.linear3 = nn.Linear(1024, 512)\n",
    "      self.batchnorm3 = nn.BatchNorm1d(512)  # BatchNorm after third layer\n",
    "      self.dropout3 = nn.Dropout(dropout_prob)  # Dropout after third layer\n",
    "\n",
    "      self.linear4 = nn.Linear(512, 256)\n",
    "      self.batchnorm4 = nn.BatchNorm1d(256)  # BatchNorm after fourth layer\n",
    "      self.dropout4 = nn.Dropout(dropout_prob)  # Dropout after fourth layer\n",
    "\n",
    "      self.linear5 = nn.Linear(256, num_classes)\n",
    "\n",
    "    def forward(self, xb):\n",
    "      # Es el conjunto de datos CIFAR-10,\n",
    "      # cada imagen con un tamano 32x32x3 (3072 pixels),\n",
    "      # donde los 3 rpresentan los tres canales RGB.\n",
    "      xb = xb.reshape(-1, input_size)\n",
    "\n",
    "      out = F.relu(self.linear1(xb))\n",
    "      out = self.batchnorm1(out)  # Apply BatchNorm\n",
    "      out = self.dropout1(out)  # Apply Dropout\n",
    "\n",
    "      out = F.relu(self.linear2(out))\n",
    "      out = self.batchnorm2(out)  # Apply BatchNorm\n",
    "      out = self.dropout2(out)  # Apply Dropout\n",
    "\n",
    "      out = F.relu(self.linear3(out))\n",
    "      out = self.batchnorm3(out)  # Apply BatchNorm\n",
    "      out = self.dropout3(out)  # Apply Dropout\n",
    "\n",
    "      out = F.relu(self.linear4(out))\n",
    "      out = self.batchnorm4(out)  # Apply BatchNorm\n",
    "      out = self.dropout4(out)  # Apply Dropout\n",
    "\n",
    "      out = self.linear5(out)\n",
    "      return out\n",
    "\n",
    "    def training_step(self, batch):\n",
    "        images, labels = batch\n",
    "        images = images.to(next(self.parameters()).device)\n",
    "        labels = labels.to(next(self.parameters()).device)\n",
    "\n",
    "        out = self(images)\n",
    "        loss = F.cross_entropy(out, labels)\n",
    "        acc = accuracy(out, labels)\n",
    "        return loss\n",
    "\n",
    "    # def train_validation_step(self, batch):\n",
    "    #     images, labels = batch\n",
    "    #     out = self(images)                    # Generar predictiones\n",
    "    #     loss = F.cross_entropy(out, labels)   # Calcular loss\n",
    "    #     acc = accuracy(out, labels)           # Calcular accuracy\n",
    "    #     return {'train_loss': loss, 'train_acc': acc}\n",
    "\n",
    "    def validation_step(self, batch, mode=\"train\"):\n",
    "        images, labels = batch\n",
    "        images = images.to(next(self.parameters()).device)\n",
    "        labels = labels.to(next(self.parameters()).device)\n",
    "\n",
    "        out = self(images)\n",
    "        loss = F.cross_entropy(out, labels)\n",
    "        acc = accuracy(out, labels)\n",
    "        return {f'{mode}_loss': loss, f'{mode}_acc': acc}\n",
    "\n",
    "    def validation_epoch_end(self, outputs, mode=\"train\"):\n",
    "        batch_losses = [x[f'{mode}_loss'] for x in outputs]\n",
    "        epoch_loss = torch.stack(batch_losses).mean()   # Promedia los loss\n",
    "        batch_accs = [x[f'{mode}_acc'] for x in outputs]\n",
    "        epoch_acc = torch.stack(batch_accs).mean()      # Promedia accuracy\n",
    "        return {f'{mode}_loss': epoch_loss.item(), f'{mode}_acc': epoch_acc.item()}\n",
    "\n",
    "\n",
    "    def epoch_end(self, epoch, result, mode=\"train\"):\n",
    "        print(f\"Epoch [{epoch}], {mode}_loss: {result[f'{mode}_loss']:.4f}, {mode}_acc: {result[f'{mode}_acc']:.4f}\")\n",
    "\n",
    "model = MnistModel()"
   ]
  },
  {
   "cell_type": "code",
   "execution_count": null,
   "metadata": {
    "executionInfo": {
     "elapsed": 2,
     "status": "ok",
     "timestamp": 1744160368260,
     "user": {
      "displayName": "Allan Joseph Murillo",
      "userId": "09057564043892499034"
     },
     "user_tz": 360
    },
    "id": "hZP7fyGJGXkI"
   },
   "outputs": [],
   "source": [
    "from torchvision import transforms\n",
    "\n",
    "# Transformaciones para entrenamiento\n",
    "train_transform = transforms.Compose([\n",
    "    transforms.RandomHorizontalFlip(),                 # Volteo Horizontal\n",
    "    transforms.RandomRotation(30),                     # Rotaciones entre -30° y 30°\n",
    "    transforms.ColorJitter(                            # Cambios de brillo, contraste, saturación\n",
    "        brightness=0.2, contrast=0.2, saturation=0.2\n",
    "    ),\n",
    "    transforms.ToTensor(),                             # Lo pasa a tensor\n",
    "    transforms.Normalize((0.5, 0.5, 0.5),              # Normalización\n",
    "                         (0.5, 0.5, 0.5))\n",
    "])\n",
    "\n",
    "train_ds_reduced.dataset.transform = transform\n",
    "val_ds.dataset.transform = transform\n"
   ]
  },
  {
   "cell_type": "code",
   "execution_count": null,
   "metadata": {
    "executionInfo": {
     "elapsed": 7,
     "status": "ok",
     "timestamp": 1744160368268,
     "user": {
      "displayName": "Allan Joseph Murillo",
      "userId": "09057564043892499034"
     },
     "user_tz": 360
    },
    "id": "MwQRIXJtIHLv"
   },
   "outputs": [],
   "source": [
    "train_loader = DataLoader(train_ds, batch_size, shuffle=True)\n",
    "val_loader = DataLoader(val_ds, batch_size)"
   ]
  },
  {
   "cell_type": "code",
   "execution_count": null,
   "metadata": {
    "executionInfo": {
     "elapsed": 13,
     "status": "ok",
     "timestamp": 1744160368281,
     "user": {
      "displayName": "Allan Joseph Murillo",
      "userId": "09057564043892499034"
     },
     "user_tz": 360
    },
    "id": "BLmteHf7J1ou"
   },
   "outputs": [],
   "source": [
    "class EarlyStopping:\n",
    "    def __init__(self, patience=10, verbose=True):\n",
    "        self.patience = patience        # Cuántas épocas esperar\n",
    "        self.best_loss = float('inf')   # La mejor pérdida encontrada\n",
    "        self.counter = 0                # Cuántas épocas sin mejorar\n",
    "        self.verbose = verbose          # Mostrar mensajes o no\n",
    "\n",
    "    def __call__(self, val_loss):\n",
    "        if val_loss < self.best_loss:\n",
    "            self.best_loss = val_loss   # Nueva mejor pérdida\n",
    "            self.counter = 0            # Reiniciar contador\n",
    "        else:\n",
    "            self.counter += 1           # No mejoró → contar\n",
    "            if self.verbose:\n",
    "                print(f\"EarlyStopping counter: {self.counter} / {self.patience}\")\n",
    "\n",
    "        return self.counter >= self.patience\n"
   ]
  },
  {
   "cell_type": "code",
   "execution_count": null,
   "metadata": {
    "executionInfo": {
     "elapsed": 3,
     "status": "ok",
     "timestamp": 1744160368281,
     "user": {
      "displayName": "Allan Joseph Murillo",
      "userId": "09057564043892499034"
     },
     "user_tz": 360
    },
    "id": "UoO1o275J2vV"
   },
   "outputs": [],
   "source": [
    "def fit(epochs, lr, model, train_loader, val_loader, opt_func=torch.optim.SGD):\n",
    "    optimizer = opt_func(model.parameters(), lr, momentum=0.9)\n",
    "    history_test = []\n",
    "    history_train = []\n",
    "\n",
    "    early_stopping = EarlyStopping(patience=10)\n",
    "\n",
    "    for epoch in range(epochs):\n",
    "        # Entrenamiento\n",
    "        for batch in train_loader:\n",
    "            loss = model.training_step(batch)\n",
    "            loss.backward()\n",
    "            optimizer.step()\n",
    "            optimizer.zero_grad()\n",
    "\n",
    "        # Evaluar entrenamiento y validación\n",
    "        result_train = evaluate(model, train_loader)\n",
    "        result_val = evaluate(model, val_loader, mode='val')\n",
    "\n",
    "        model.epoch_end(epoch, result_train)\n",
    "        model.epoch_end(epoch, result_val, mode='val')\n",
    "\n",
    "        history_train.append(result_train)\n",
    "        history_test.append(result_val)\n",
    "\n",
    "        # Checar EarlyStopping\n",
    "        if early_stopping(result_val['val_loss']):\n",
    "            print(f\"\\nEarly stopping at epoch {epoch+1}\")\n",
    "            break\n",
    "\n",
    "    return history_train, history_test\n"
   ]
  },
  {
   "cell_type": "code",
   "execution_count": null,
   "metadata": {
    "colab": {
     "base_uri": "https://localhost:8080/"
    },
    "executionInfo": {
     "elapsed": 2053256,
     "status": "ok",
     "timestamp": 1744162421536,
     "user": {
      "displayName": "Allan Joseph Murillo",
      "userId": "09057564043892499034"
     },
     "user_tz": 360
    },
    "id": "7GnYs17FtpAI",
    "outputId": "79528d01-1d8b-4b63-a0df-5e691b8c4f1a"
   },
   "outputs": [],
   "source": [
    "# Lo estaba corriendo nuevamente y no me dio tiempo :p\n",
    "history_train, history_val = fit(epoch, learning_rate, model, train_loader, val_loader)"
   ]
  },
  {
   "cell_type": "markdown",
   "metadata": {
    "id": "EjlbY1KmTJ7l"
   },
   "source": [
    "### 3. Análisis:\n",
    "  * Compara las curvas de entrenamiento vs las del modelo base.\n",
    "  * ¿Cómo afectó BatchNorm a la velocidad de convergencia? (Justifique con\n",
    "métricas).\n",
    "  * Para una clase minoritaria, calcule la mejora en F1-score tras aplicar los\n",
    "pesos."
   ]
  },
  {
   "cell_type": "code",
   "execution_count": null,
   "metadata": {
    "colab": {
     "base_uri": "https://localhost:8080/",
     "height": 472
    },
    "executionInfo": {
     "elapsed": 288,
     "status": "ok",
     "timestamp": 1744162421818,
     "user": {
      "displayName": "Allan Joseph Murillo",
      "userId": "09057564043892499034"
     },
     "user_tz": 360
    },
    "id": "MwxYQC_ufg-d",
    "outputId": "8d2574d6-a71b-4ba1-9606-8b6d1973c300"
   },
   "outputs": [],
   "source": [
    "plot_accuracy(history_train,history_val)"
   ]
  },
  {
   "cell_type": "markdown",
   "metadata": {
    "id": "Qtan0XCT1Crx"
   },
   "source": [
    "## Parte 4: Evaluación Final y Métricas (20%)"
   ]
  },
  {
   "cell_type": "markdown",
   "metadata": {
    "id": "NACqkJgfkhWm"
   },
   "source": [
    "### 1. Métricas en Test:\n",
    "  * Reporte precisión, recall y F1-score por clase.\n"
   ]
  },
  {
   "cell_type": "code",
   "execution_count": null,
   "metadata": {
    "executionInfo": {
     "elapsed": 4,
     "status": "ok",
     "timestamp": 1744162421824,
     "user": {
      "displayName": "Allan Joseph Murillo",
      "userId": "09057564043892499034"
     },
     "user_tz": 360
    },
    "id": "3zdTG2GgKh-l"
   },
   "outputs": [],
   "source": [
    "from sklearn.metrics import classification_report\n",
    "import torch\n"
   ]
  },
  {
   "cell_type": "code",
   "execution_count": null,
   "metadata": {
    "executionInfo": {
     "elapsed": 2,
     "status": "ok",
     "timestamp": 1744162421827,
     "user": {
      "displayName": "Allan Joseph Murillo",
      "userId": "09057564043892499034"
     },
     "user_tz": 360
    },
    "id": "pFUZfW8SKk14"
   },
   "outputs": [],
   "source": [
    "def get_all_preds(model, loader):\n",
    "    all_preds = []\n",
    "    all_labels = []\n",
    "\n",
    "    with torch.no_grad():\n",
    "        for images, labels in loader:\n",
    "            outputs = model(images)\n",
    "            _, preds = torch.max(outputs, dim=1)  # Clase con mayor probabilidad\n",
    "            all_preds.extend(preds.cpu().numpy())\n",
    "            all_labels.extend(labels.cpu().numpy())\n",
    "\n",
    "    return all_labels, all_preds\n"
   ]
  },
  {
   "cell_type": "code",
   "execution_count": null,
   "metadata": {
    "colab": {
     "base_uri": "https://localhost:8080/"
    },
    "executionInfo": {
     "elapsed": 21535,
     "status": "ok",
     "timestamp": 1744162443365,
     "user": {
      "displayName": "Allan Joseph Murillo",
      "userId": "09057564043892499034"
     },
     "user_tz": 360
    },
    "id": "7S3pdD9QKnOv",
    "outputId": "c475ff2a-27af-46b2-8c41-38b4f4094a36"
   },
   "outputs": [],
   "source": [
    "labels, preds = get_all_preds(model, train_loader)\n",
    "\n",
    "print(classification_report(labels, preds, target_names=dataset.classes))\n"
   ]
  },
  {
   "cell_type": "markdown",
   "metadata": {
    "id": "WycInfaEkxoz"
   },
   "source": [
    "  * Analice los resultados obtenidos.\n",
    "\n",
    "\n",
    "A partir de las métricas de precisión (precision), exhaustividad (recall) y F1-score obtenidas para cada clase, se observa lo siguiente:\n",
    "\n",
    "Las clases más balanceadas o mayoritarias (como automobile, horse, ship) tienden a tener mejores resultados, con F1-scores entre 0.53 y 0.60.\n",
    "\n",
    "Las clases minoritarias (como airplane, ship y frog, que fueron desbalanceadas a propósito) presentan resultados considerablemente inferiores en comparación con las clases mayoritarias.\n",
    "\n",
    "Además, algunas clases como bird y cat, a pesar de no ser minoritarias, presentan métricas particularmente bajas, probablemente por su alta similitud visual con otras clases."
   ]
  },
  {
   "cell_type": "markdown",
   "metadata": {
    "id": "ykmPtzaSk6vS"
   },
   "source": [
    "  * Seleccione la clase con peor performance y proponga una estrategia\n",
    "  específica para mejorarla.\n",
    "\n",
    "\n",
    "Analizando el F1-score por clase, la peor performance se observa en la clase bird, con un F1-score de 0.24 (el más bajo de todas las clases).\n",
    "\n",
    "* Clase\tF1-score\n",
    "* bird\t0.24\n",
    "Esto se debe a:\n",
    "\n",
    "Precision baja (0.39): el modelo predice bird muchas veces cuando no corresponde.\n",
    "\n",
    "Recall muy bajo (0.17): de todas las imágenes reales de bird, solo logra identificar correctamente un 17%.\n",
    "\n",
    "Como el mayor problema es el recall bajo (es decir, el modelo no está reconociendo bien las imágenes de bird), se puede proponer:\n",
    "\n",
    "Estrategia: Aumento de Datos Específico (Data Augmentation)\n",
    "Consiste en generar más ejemplos sintéticos de bird mediante transformaciones sobre las imágenes existentes:\n",
    "\n",
    "* Rotaciones\n",
    "\n",
    "* Zoom in/out\n",
    "\n",
    "* Cambios de brillo/contraste\n",
    "\n",
    "* Volteo horizontal/vertical\n",
    "\n",
    "* Recortes aleatorios\n",
    "\n",
    "* Distorsiones pequeñas"
   ]
  },
  {
   "cell_type": "markdown",
   "metadata": {
    "id": "J8M8YlcCY13K"
   },
   "source": [
    "Links:\n",
    "* https://colab.research.google.com/github/pytorch/tutorials/blob/gh-pages/_downloads/cifar10_tutorial.ipynb\n",
    "\n",
    "* https://christianbernecker.medium.com/how-to-create-a-confusion-matrix-in-pytorch-38d06a7f04b7\n"
   ]
  }
 ],
 "metadata": {
  "accelerator": "GPU",
  "colab": {
   "authorship_tag": "ABX9TyMvygbfzqDCWGAmfCuBF+MD",
   "gpuType": "T4",
   "provenance": []
  },
  "kernelspec": {
   "display_name": "Python 3",
   "name": "python3"
  },
  "language_info": {
   "name": "python"
  }
 },
 "nbformat": 4,
 "nbformat_minor": 0
}
